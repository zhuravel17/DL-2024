{
 "cells": [
  {
   "cell_type": "markdown",
   "metadata": {},
   "source": [
    "# Лабораторная работа 4"
   ]
  },
  {
   "cell_type": "markdown",
   "metadata": {},
   "source": [
    "Tensorflow 2.x\n",
    "\n",
    "1) Подготовка данных\n",
    "\n",
    "2) Использование Keras Model API\n",
    "\n",
    "3) Использование Keras Sequential + Functional API"
   ]
  },
  {
   "cell_type": "markdown",
   "metadata": {},
   "source": [
    "https://www.tensorflow.org/tutorials"
   ]
  },
  {
   "cell_type": "markdown",
   "metadata": {},
   "source": [
    "Для выполнения лабораторной работы необходимо установить tensorflow версии 2.0 или выше .\n",
    "\n",
    "Рекомендуется использовать возможности Colab'а по обучению моделей на GPU.\n",
    "\n"
   ]
  },
  {
   "cell_type": "code",
   "execution_count": 50,
   "metadata": {},
   "outputs": [],
   "source": [
    "import os\n",
    "import tensorflow as tf\n",
    "import numpy as np\n",
    "import math\n",
    "import timeit\n",
    "import matplotlib.pyplot as plt\n",
    "\n",
    "%matplotlib inline"
   ]
  },
  {
   "cell_type": "code",
   "execution_count": 51,
   "metadata": {},
   "outputs": [],
   "source": [
    "device = '/device:gpu:0'"
   ]
  },
  {
   "cell_type": "markdown",
   "metadata": {},
   "source": [
    "# Подготовка данных\n",
    "Загрузите набор данных из предыдущей лабораторной работы. "
   ]
  },
  {
   "cell_type": "code",
   "execution_count": 52,
   "metadata": {},
   "outputs": [
    {
     "name": "stdout",
     "output_type": "stream",
     "text": [
      "Train data shape:  (49000, 32, 32, 3)\n",
      "Train labels shape:  (49000,) int32\n",
      "Validation data shape:  (1000, 32, 32, 3)\n",
      "Validation labels shape:  (1000,)\n",
      "Test data shape:  (10000, 32, 32, 3)\n",
      "Test labels shape:  (10000,)\n"
     ]
    }
   ],
   "source": [
    "def load_cifar10(num_training=49000, num_validation=1000, num_test=10000):\n",
    "    \"\"\"\n",
    "    Fetch the CIFAR-10 dataset from the web and perform preprocessing to prepare\n",
    "    it for the two-layer neural net classifier. These are the same steps as\n",
    "    we used for the SVM, but condensed to a single function.\n",
    "    \"\"\"\n",
    "    # Load the raw CIFAR-10 dataset and use appropriate data types and shapes\n",
    "    cifar10 = tf.keras.datasets.cifar10.load_data()\n",
    "    (X_train, y_train), (X_test, y_test) = cifar10\n",
    "    X_train = np.asarray(X_train, dtype=np.float32)\n",
    "    y_train = np.asarray(y_train, dtype=np.int32).flatten()\n",
    "    X_test = np.asarray(X_test, dtype=np.float32)\n",
    "    y_test = np.asarray(y_test, dtype=np.int32).flatten()\n",
    "\n",
    "    # Subsample the data\n",
    "    mask = range(num_training, num_training + num_validation)\n",
    "    X_val = X_train[mask]\n",
    "    y_val = y_train[mask]\n",
    "    mask = range(num_training)\n",
    "    X_train = X_train[mask]\n",
    "    y_train = y_train[mask]\n",
    "    mask = range(num_test)\n",
    "    X_test = X_test[mask]\n",
    "    y_test = y_test[mask]\n",
    "\n",
    "    # Normalize the data: subtract the mean pixel and divide by std\n",
    "    mean_pixel = X_train.mean(axis=(0, 1, 2), keepdims=True)\n",
    "    std_pixel = X_train.std(axis=(0, 1, 2), keepdims=True)\n",
    "    X_train = (X_train - mean_pixel) / std_pixel\n",
    "    X_val = (X_val - mean_pixel) / std_pixel\n",
    "    X_test = (X_test - mean_pixel) / std_pixel\n",
    "\n",
    "    return X_train, y_train, X_val, y_val, X_test, y_test\n",
    "\n",
    "# If there are errors with SSL downloading involving self-signed certificates,\n",
    "# it may be that your Python version was recently installed on the current machine.\n",
    "# See: https://github.com/tensorflow/tensorflow/issues/10779\n",
    "# To fix, run the command: /Applications/Python\\ 3.7/Install\\ Certificates.command\n",
    "#   ...replacing paths as necessary.\n",
    "\n",
    "# Invoke the above function to get our data.\n",
    "NHW = (0, 1, 2)\n",
    "X_train, y_train, X_val, y_val, X_test, y_test = load_cifar10()\n",
    "print('Train data shape: ', X_train.shape)\n",
    "print('Train labels shape: ', y_train.shape, y_train.dtype)\n",
    "print('Validation data shape: ', X_val.shape)\n",
    "print('Validation labels shape: ', y_val.shape)\n",
    "print('Test data shape: ', X_test.shape)\n",
    "print('Test labels shape: ', y_test.shape)"
   ]
  },
  {
   "cell_type": "code",
   "execution_count": 53,
   "metadata": {},
   "outputs": [],
   "source": [
    "class Dataset(object):\n",
    "    def __init__(self, X, y, batch_size, shuffle=False):\n",
    "        \"\"\"\n",
    "        Construct a Dataset object to iterate over data X and labels y\n",
    "\n",
    "        Inputs:\n",
    "        - X: Numpy array of data, of any shape\n",
    "        - y: Numpy array of labels, of any shape but with y.shape[0] == X.shape[0]\n",
    "        - batch_size: Integer giving number of elements per minibatch\n",
    "        - shuffle: (optional) Boolean, whether to shuffle the data on each epoch\n",
    "        \"\"\"\n",
    "        assert X.shape[0] == y.shape[0], 'Got different numbers of data and labels'\n",
    "        self.X, self.y = X, y\n",
    "        self.batch_size, self.shuffle = batch_size, shuffle\n",
    "\n",
    "    def __iter__(self):\n",
    "        N, B = self.X.shape[0], self.batch_size\n",
    "        idxs = np.arange(N)\n",
    "        if self.shuffle:\n",
    "            np.random.shuffle(idxs)\n",
    "        return iter((self.X[i:i+B], self.y[i:i+B]) for i in range(0, N, B))\n",
    "\n",
    "\n",
    "train_dset = Dataset(X_train, y_train, batch_size=64, shuffle=True)\n",
    "val_dset = Dataset(X_val, y_val, batch_size=64, shuffle=False)\n",
    "test_dset = Dataset(X_test, y_test, batch_size=64)"
   ]
  },
  {
   "cell_type": "code",
   "execution_count": 54,
   "metadata": {},
   "outputs": [
    {
     "name": "stdout",
     "output_type": "stream",
     "text": [
      "0 (64, 32, 32, 3) (64,)\n",
      "1 (64, 32, 32, 3) (64,)\n",
      "2 (64, 32, 32, 3) (64,)\n",
      "3 (64, 32, 32, 3) (64,)\n",
      "4 (64, 32, 32, 3) (64,)\n",
      "5 (64, 32, 32, 3) (64,)\n",
      "6 (64, 32, 32, 3) (64,)\n"
     ]
    }
   ],
   "source": [
    "# We can iterate through a dataset like this:\n",
    "for t, (x, y) in enumerate(train_dset):\n",
    "    print(t, x.shape, y.shape)\n",
    "    if t > 5: break"
   ]
  },
  {
   "cell_type": "markdown",
   "metadata": {},
   "source": []
  },
  {
   "cell_type": "markdown",
   "metadata": {},
   "source": [
    "\n"
   ]
  },
  {
   "cell_type": "markdown",
   "metadata": {},
   "source": [
    "#  Keras Model Subclassing API"
   ]
  },
  {
   "cell_type": "markdown",
   "metadata": {},
   "source": [
    "\n",
    "Для реализации собственной модели с помощью Keras Model Subclassing API необходимо выполнить следующие шаги:\n",
    "\n",
    "1) Определить новый класс, который является наследником tf.keras.Model.\n",
    "\n",
    "2) В методе __init__() определить все необходимые слои из модуля tf.keras.layer\n",
    "\n",
    "3) Реализовать прямой проход в методе call() на основе слоев, объявленных в __init__()\n",
    "\n",
    "Ниже приведен пример использования keras API для определения двухслойной полносвязной сети. \n",
    "\n",
    "https://www.tensorflow.org/versions/r2.0/api_docs/python/tf/keras"
   ]
  },
  {
   "cell_type": "code",
   "execution_count": 55,
   "metadata": {},
   "outputs": [
    {
     "name": "stdout",
     "output_type": "stream",
     "text": [
      "(64, 10)\n"
     ]
    }
   ],
   "source": [
    "class TwoLayerFC(tf.keras.Model):\n",
    "    def __init__(self, hidden_size, num_classes):\n",
    "        super(TwoLayerFC, self).__init__()\n",
    "        initializer = tf.initializers.VarianceScaling(scale=2.0)\n",
    "        self.fc1 = tf.keras.layers.Dense(hidden_size, activation='relu',\n",
    "                                   kernel_initializer=initializer)\n",
    "        self.fc2 = tf.keras.layers.Dense(num_classes, activation='softmax',\n",
    "                                   kernel_initializer=initializer)\n",
    "        self.flatten = tf.keras.layers.Flatten()\n",
    "\n",
    "    def call(self, x, training=False):\n",
    "        x = self.flatten(x)\n",
    "        x = self.fc1(x)\n",
    "        x = self.fc2(x)\n",
    "        return x\n",
    "\n",
    "\n",
    "def test_TwoLayerFC():\n",
    "    \"\"\" A small unit test to exercise the TwoLayerFC model above. \"\"\"\n",
    "    input_size, hidden_size, num_classes = 50, 42, 10\n",
    "    x = tf.zeros((64, input_size))\n",
    "    model = TwoLayerFC(hidden_size, num_classes)\n",
    "    with tf.device(device):\n",
    "        scores = model(x)\n",
    "        print(scores.shape)\n",
    "\n",
    "test_TwoLayerFC()"
   ]
  },
  {
   "cell_type": "markdown",
   "metadata": {},
   "source": [
    "Реализуйте трехслойную CNN для вашей задачи классификации. \n",
    "\n",
    "Архитектура сети:\n",
    "    \n",
    "1. Сверточный слой (5 x 5 kernels, zero-padding = 'same')\n",
    "2. Функция активации ReLU \n",
    "3. Сверточный слой (3 x 3 kernels, zero-padding = 'same')\n",
    "4. Функция активации ReLU \n",
    "5. Полносвязный слой \n",
    "6. Функция активации Softmax \n",
    "\n",
    "https://www.tensorflow.org/versions/r2.0/api_docs/python/tf/keras/layers/Conv2D\n",
    "\n",
    "https://www.tensorflow.org/versions/r2.0/api_docs/python/tf/keras/layers/Dense"
   ]
  },
  {
   "cell_type": "code",
   "execution_count": 56,
   "metadata": {},
   "outputs": [],
   "source": [
    "class ThreeLayerConvNet(tf.keras.Model):\n",
    "    def __init__(self, channel_1, channel_2, num_classes):\n",
    "        super(ThreeLayerConvNet, self).__init__()\n",
    "        ########################################################################\n",
    "        # TODO: Implement the __init__ method for a three-layer ConvNet. You   #\n",
    "        # should instantiate layer objects to be used in the forward pass.     #\n",
    "        ########################################################################\n",
    "        # *****START OF YOUR CODE (DO NOT DELETE/MODIFY THIS LINE)*****\n",
    "\n",
    "        # Задаем инициализатор весов\n",
    "        initializer = tf.initializers.VarianceScaling(scale=2.0)\n",
    "\n",
    "        # Создаем слой для выравнивания данных\n",
    "        self.flatten = tf.keras.layers.Flatten()\n",
    "\n",
    "        # Создаем первый сверточный слой с активационной функцией ReLU\n",
    "        self.conv1 = tf.keras.layers.Conv2D(channel_1, [5, 5], [1, 1], padding='same',\n",
    "                                            kernel_initializer=initializer,\n",
    "                                            activation='relu')\n",
    "\n",
    "        # Создаем второй сверточный слой с активационной функцией ReLU\n",
    "        self.conv2 = tf.keras.layers.Conv2D(channel_2, [3, 3], [1, 1], padding='same',\n",
    "                                            kernel_initializer=initializer,\n",
    "                                            activation='relu')\n",
    "\n",
    "        # Создаем полносвязный слой с активационной функцией Softmax\n",
    "        self.fc = tf.keras.layers.Dense(num_classes, activation='softmax', kernel_initializer=initializer)\n",
    "\n",
    "\n",
    "        # *****END OF YOUR CODE (DO NOT DELETE/MODIFY THIS LINE)*****\n",
    "        ########################################################################\n",
    "        #                           END OF YOUR CODE                           #\n",
    "        ########################################################################\n",
    "\n",
    "    def call(self, x, training=False):\n",
    "        scores = None\n",
    "        ########################################################################\n",
    "        # TODO: Implement the forward pass for a three-layer ConvNet. You      #\n",
    "        # should use the layer objects defined in the __init__ method.         #\n",
    "        ########################################################################\n",
    "        # *****START OF YOUR CODE (DO NOT DELETE/MODIFY THIS LINE)*****\n",
    "\n",
    "        # Проход данных через первый сверточный слой\n",
    "        x = self.conv1(x)\n",
    "\n",
    "        # Проход данных через второй сверточный слой\n",
    "        x = self.conv2(x)\n",
    "\n",
    "        # Выравнивание данных для подачи в полносвязный слой\n",
    "        x = self.flatten(x)\n",
    "\n",
    "        # Получение оценок классов от полносвязного слоя\n",
    "        scores = self.fc(x)\n",
    "\n",
    "        # *****END OF YOUR CODE (DO NOT DELETE/MODIFY THIS LINE)*****\n",
    "        ########################################################################\n",
    "        #                           END OF YOUR CODE                           #\n",
    "        ########################################################################\n",
    "        return scores"
   ]
  },
  {
   "cell_type": "code",
   "execution_count": 57,
   "metadata": {},
   "outputs": [
    {
     "name": "stdout",
     "output_type": "stream",
     "text": [
      "(64, 10)\n"
     ]
    }
   ],
   "source": [
    "def test_ThreeLayerConvNet():\n",
    "    channel_1, channel_2, num_classes = 12, 8, 10\n",
    "    model = ThreeLayerConvNet(channel_1, channel_2, num_classes)\n",
    "    with tf.device(device):\n",
    "        x = tf.zeros((64, 3, 32, 32))\n",
    "        scores = model(x)\n",
    "        print(scores.shape)\n",
    "\n",
    "test_ThreeLayerConvNet()"
   ]
  },
  {
   "cell_type": "markdown",
   "metadata": {},
   "source": [
    "Пример реализации процесса обучения:"
   ]
  },
  {
   "cell_type": "code",
   "execution_count": 58,
   "metadata": {},
   "outputs": [],
   "source": [
    "def train_part34(model_init_fn, optimizer_init_fn, num_epochs=1, is_training=False):\n",
    "    \"\"\"\n",
    "    Simple training loop for use with models defined using tf.keras. It trains\n",
    "    a model for one epoch on the CIFAR-10 training set and periodically checks\n",
    "    accuracy on the CIFAR-10 validation set.\n",
    "\n",
    "    Inputs:\n",
    "    - model_init_fn: A function that takes no parameters; when called it\n",
    "      constructs the model we want to train: model = model_init_fn()\n",
    "    - optimizer_init_fn: A function which takes no parameters; when called it\n",
    "      constructs the Optimizer object we will use to optimize the model:\n",
    "      optimizer = optimizer_init_fn()\n",
    "    - num_epochs: The number of epochs to train for\n",
    "\n",
    "    Returns: Nothing, but prints progress during trainingn\n",
    "    \"\"\"\n",
    "    with tf.device(device):\n",
    "\n",
    "\n",
    "        loss_fn = tf.keras.losses.SparseCategoricalCrossentropy()\n",
    "\n",
    "        model = model_init_fn()\n",
    "        optimizer = optimizer_init_fn()\n",
    "\n",
    "        train_loss = tf.keras.metrics.Mean(name='train_loss')\n",
    "        train_accuracy = tf.keras.metrics.SparseCategoricalAccuracy(name='train_accuracy')\n",
    "\n",
    "        val_loss = tf.keras.metrics.Mean(name='val_loss')\n",
    "        val_accuracy = tf.keras.metrics.SparseCategoricalAccuracy(name='val_accuracy')\n",
    "\n",
    "        t = 0\n",
    "        for epoch in range(num_epochs):\n",
    "\n",
    "            # Reset the metrics - https://www.tensorflow.org/alpha/guide/migration_guide#new-style_metrics\n",
    "            train_loss.reset_states()\n",
    "            train_accuracy.reset_states()\n",
    "\n",
    "            for x_np, y_np in train_dset:\n",
    "                with tf.GradientTape() as tape:\n",
    "\n",
    "                    # Use the model function to build the forward pass.\n",
    "                    scores = model(x_np, training=is_training)\n",
    "                    loss = loss_fn(y_np, scores)\n",
    "\n",
    "                    gradients = tape.gradient(loss, model.trainable_variables)\n",
    "                    optimizer.apply_gradients(zip(gradients, model.trainable_variables))\n",
    "\n",
    "                    # Update the metrics\n",
    "                    train_loss.update_state(loss)\n",
    "                    train_accuracy.update_state(y_np, scores)\n",
    "\n",
    "                    if t % print_every == 0:\n",
    "                        val_loss.reset_states()\n",
    "                        val_accuracy.reset_states()\n",
    "                        for test_x, test_y in val_dset:\n",
    "                            # During validation at end of epoch, training set to False\n",
    "                            prediction = model(test_x, training=False)\n",
    "                            t_loss = loss_fn(test_y, prediction)\n",
    "\n",
    "                            val_loss.update_state(t_loss)\n",
    "                            val_accuracy.update_state(test_y, prediction)\n",
    "\n",
    "                        template = 'Iteration {}, Epoch {}, Loss: {}, Accuracy: {}, Val Loss: {}, Val Accuracy: {}'\n",
    "                        print (template.format(t, epoch+1,\n",
    "                                             train_loss.result(),\n",
    "                                             train_accuracy.result()*100,\n",
    "                                             val_loss.result(),\n",
    "                                             val_accuracy.result()*100))\n",
    "                    t += 1"
   ]
  },
  {
   "cell_type": "code",
   "execution_count": 59,
   "metadata": {},
   "outputs": [
    {
     "name": "stdout",
     "output_type": "stream",
     "text": [
      "Iteration 0, Epoch 1, Loss: 3.1364245414733887, Accuracy: 15.625, Val Loss: 2.9348983764648438, Val Accuracy: 13.899999618530273\n",
      "Iteration 100, Epoch 1, Loss: 2.231823205947876, Accuracy: 28.511756896972656, Val Loss: 1.9327781200408936, Val Accuracy: 38.0\n",
      "Iteration 200, Epoch 1, Loss: 2.076622247695923, Accuracy: 32.16728973388672, Val Loss: 1.8325392007827759, Val Accuracy: 40.099998474121094\n",
      "Iteration 300, Epoch 1, Loss: 2.0033702850341797, Accuracy: 33.88704299926758, Val Loss: 1.9023741483688354, Val Accuracy: 38.80000305175781\n",
      "Iteration 400, Epoch 1, Loss: 1.9340980052947998, Accuracy: 35.76995086669922, Val Loss: 1.7348158359527588, Val Accuracy: 43.39999771118164\n",
      "Iteration 500, Epoch 1, Loss: 1.8877345323562622, Accuracy: 36.882484436035156, Val Loss: 1.6605148315429688, Val Accuracy: 44.70000076293945\n",
      "Iteration 600, Epoch 1, Loss: 1.8577497005462646, Accuracy: 37.75998306274414, Val Loss: 1.693747639656067, Val Accuracy: 42.5\n",
      "Iteration 700, Epoch 1, Loss: 1.8324618339538574, Accuracy: 38.42279052734375, Val Loss: 1.634238839149475, Val Accuracy: 44.60000228881836\n"
     ]
    }
   ],
   "source": [
    "hidden_size, num_classes = 4000, 10\n",
    "learning_rate = 1e-2\n",
    "\n",
    "def model_init_fn():\n",
    "    return TwoLayerFC(hidden_size, num_classes)\n",
    "\n",
    "def optimizer_init_fn():\n",
    "    return tf.keras.optimizers.SGD(learning_rate=learning_rate)\n",
    "\n",
    "train_part34(model_init_fn, optimizer_init_fn)"
   ]
  },
  {
   "cell_type": "markdown",
   "metadata": {},
   "source": [
    "Обучите трехслойную CNN. В tf.keras.optimizers.SGD укажите Nesterov momentum = 0.9 . \n",
    "\n",
    "https://www.tensorflow.org/versions/r2.0/api_docs/python/tf/optimizers/SGD\n",
    "\n",
    "Значение accuracy на валидационной выборке после 1 эпохи обучения должно быть > 50% ."
   ]
  },
  {
   "cell_type": "code",
   "execution_count": 60,
   "metadata": {},
   "outputs": [
    {
     "name": "stdout",
     "output_type": "stream",
     "text": [
      "Iteration 0, Epoch 1, Loss: 2.853886604309082, Accuracy: 4.6875, Val Loss: 2.980907917022705, Val Accuracy: 7.500000476837158\n",
      "Iteration 100, Epoch 1, Loss: 1.8451080322265625, Accuracy: 34.91646194458008, Val Loss: 1.61293625831604, Val Accuracy: 45.69999694824219\n",
      "Iteration 200, Epoch 1, Loss: 1.6930623054504395, Accuracy: 40.446205139160156, Val Loss: 1.4588758945465088, Val Accuracy: 49.70000076293945\n",
      "Iteration 300, Epoch 1, Loss: 1.6146055459976196, Accuracy: 43.189369201660156, Val Loss: 1.420101284980774, Val Accuracy: 50.80000305175781\n",
      "Iteration 400, Epoch 1, Loss: 1.5494968891143799, Accuracy: 45.507328033447266, Val Loss: 1.3256241083145142, Val Accuracy: 53.10000228881836\n",
      "Iteration 500, Epoch 1, Loss: 1.502746820449829, Accuracy: 47.149452209472656, Val Loss: 1.3002324104309082, Val Accuracy: 56.0\n",
      "Iteration 600, Epoch 1, Loss: 1.4728596210479736, Accuracy: 48.060523986816406, Val Loss: 1.2765353918075562, Val Accuracy: 55.29999542236328\n",
      "Iteration 700, Epoch 1, Loss: 1.4443415403366089, Accuracy: 49.1507682800293, Val Loss: 1.2304606437683105, Val Accuracy: 57.900001525878906\n"
     ]
    }
   ],
   "source": [
    "learning_rate = 3e-3\n",
    "channel_1, channel_2, num_classes = 32, 16, 10\n",
    "\n",
    "def model_init_fn():\n",
    "    model = None\n",
    "    ############################################################################\n",
    "    # TODO: Complete the implementation of model_fn.                           #\n",
    "    ############################################################################\n",
    "    # *****START OF YOUR CODE (DO NOT DELETE/MODIFY THIS LINE)*****\n",
    "\n",
    "    # Создание модели с тремя сверточными слоями и указанием\n",
    "    #количества каналов в каждом слое, а также количества классов.\n",
    "    model = ThreeLayerConvNet(channel_1, channel_2, num_classes)\n",
    "\n",
    "\n",
    "    # *****END OF YOUR CODE (DO NOT DELETE/MODIFY THIS LINE)*****\n",
    "    ############################################################################\n",
    "    #                           END OF YOUR CODE                               #\n",
    "    ############################################################################\n",
    "    return model\n",
    "\n",
    "def optimizer_init_fn():\n",
    "    optimizer = None\n",
    "    ############################################################################\n",
    "    # TODO: Complete the implementation of model_fn.                           #\n",
    "    ############################################################################\n",
    "    # *****START OF YOUR CODE (DO NOT DELETE/MODIFY THIS LINE)*****\n",
    "\n",
    "    # Задаем оптимизатор стохастического градиентного спуска (SGD) с указанием learning_rate,\n",
    "    #параметра momentum и включением Nesterov momentum.\n",
    "    optimizer = tf.keras.optimizers.SGD(learning_rate, 0.9, nesterov=True)\n",
    "\n",
    "\n",
    "    # *****END OF YOUR CODE (DO NOT DELETE/MODIFY THIS LINE)*****\n",
    "    ############################################################################\n",
    "    #                           END OF YOUR CODE                               #\n",
    "    ############################################################################\n",
    "    return optimizer\n",
    "\n",
    "train_part34(model_init_fn, optimizer_init_fn)"
   ]
  },
  {
   "cell_type": "markdown",
   "metadata": {},
   "source": [
    "# Использование Keras Sequential API для реализации последовательных моделей.\n",
    "\n",
    "Пример для полносвязной сети:"
   ]
  },
  {
   "cell_type": "code",
   "execution_count": 61,
   "metadata": {},
   "outputs": [
    {
     "name": "stdout",
     "output_type": "stream",
     "text": [
      "Iteration 0, Epoch 1, Loss: 3.242793560028076, Accuracy: 10.9375, Val Loss: 2.7546486854553223, Val Accuracy: 12.899999618530273\n",
      "Iteration 100, Epoch 1, Loss: 2.2291619777679443, Accuracy: 28.217823028564453, Val Loss: 1.8675251007080078, Val Accuracy: 37.599998474121094\n",
      "Iteration 200, Epoch 1, Loss: 2.071199417114258, Accuracy: 31.91075897216797, Val Loss: 1.8662388324737549, Val Accuracy: 40.5\n",
      "Iteration 300, Epoch 1, Loss: 1.995688796043396, Accuracy: 34.08430099487305, Val Loss: 1.8575727939605713, Val Accuracy: 37.0\n",
      "Iteration 400, Epoch 1, Loss: 1.9292712211608887, Accuracy: 35.9375, Val Loss: 1.723901391029358, Val Accuracy: 42.5\n",
      "Iteration 500, Epoch 1, Loss: 1.8869705200195312, Accuracy: 36.979164123535156, Val Loss: 1.6702359914779663, Val Accuracy: 42.599998474121094\n",
      "Iteration 600, Epoch 1, Loss: 1.8579471111297607, Accuracy: 37.744384765625, Val Loss: 1.6979011297225952, Val Accuracy: 42.79999923706055\n",
      "Iteration 700, Epoch 1, Loss: 1.8308104276657104, Accuracy: 38.56767272949219, Val Loss: 1.6619038581848145, Val Accuracy: 43.599998474121094\n"
     ]
    }
   ],
   "source": [
    "learning_rate = 1e-2\n",
    "\n",
    "def model_init_fn():\n",
    "    input_shape = (32, 32, 3)\n",
    "    hidden_layer_size, num_classes = 4000, 10\n",
    "    initializer = tf.initializers.VarianceScaling(scale=2.0)\n",
    "    layers = [\n",
    "        tf.keras.layers.Flatten(input_shape=input_shape),\n",
    "        tf.keras.layers.Dense(hidden_layer_size, activation='relu',\n",
    "                              kernel_initializer=initializer),\n",
    "        tf.keras.layers.Dense(num_classes, activation='softmax',\n",
    "                              kernel_initializer=initializer),\n",
    "    ]\n",
    "    model = tf.keras.Sequential(layers)\n",
    "    return model\n",
    "\n",
    "def optimizer_init_fn():\n",
    "    return tf.keras.optimizers.SGD(learning_rate=learning_rate)\n",
    "\n",
    "train_part34(model_init_fn, optimizer_init_fn)"
   ]
  },
  {
   "cell_type": "markdown",
   "metadata": {},
   "source": [
    "Альтернативный менее гибкий способ обучения:"
   ]
  },
  {
   "cell_type": "code",
   "execution_count": 62,
   "metadata": {},
   "outputs": [
    {
     "name": "stdout",
     "output_type": "stream",
     "text": [
      "766/766 [==============================] - 63s 81ms/step - loss: 1.8204 - sparse_categorical_accuracy: 0.3886 - val_loss: 1.6733 - val_sparse_categorical_accuracy: 0.4370\n",
      "313/313 [==============================] - 9s 29ms/step - loss: 1.6410 - sparse_categorical_accuracy: 0.4374\n"
     ]
    },
    {
     "data": {
      "text/plain": [
       "[1.6409966945648193, 0.4374000132083893]"
      ]
     },
     "execution_count": 62,
     "metadata": {},
     "output_type": "execute_result"
    }
   ],
   "source": [
    "model = model_init_fn()\n",
    "model.compile(optimizer=tf.keras.optimizers.SGD(learning_rate=learning_rate),\n",
    "              loss='sparse_categorical_crossentropy',\n",
    "              metrics=[tf.keras.metrics.sparse_categorical_accuracy])\n",
    "model.fit(X_train, y_train, batch_size=64, epochs=1, validation_data=(X_val, y_val))\n",
    "model.evaluate(X_test, y_test)"
   ]
  },
  {
   "cell_type": "markdown",
   "metadata": {},
   "source": [
    "Перепишите реализацию трехслойной CNN с помощью tf.keras.Sequential API . Обучите модель двумя способами."
   ]
  },
  {
   "cell_type": "code",
   "execution_count": 63,
   "metadata": {},
   "outputs": [
    {
     "name": "stdout",
     "output_type": "stream",
     "text": [
      "Iteration 0, Epoch 1, Loss: 3.441401243209839, Accuracy: 10.9375, Val Loss: 2.639439105987549, Val Accuracy: 10.40000057220459\n",
      "Iteration 100, Epoch 1, Loss: 1.9873087406158447, Accuracy: 29.935026168823242, Val Loss: 1.7885186672210693, Val Accuracy: 38.60000228881836\n",
      "Iteration 200, Epoch 1, Loss: 1.8513487577438354, Accuracy: 34.84918975830078, Val Loss: 1.65852689743042, Val Accuracy: 42.69999694824219\n",
      "Iteration 300, Epoch 1, Loss: 1.7804819345474243, Accuracy: 37.46885299682617, Val Loss: 1.612234354019165, Val Accuracy: 43.20000076293945\n",
      "Iteration 400, Epoch 1, Loss: 1.7214505672454834, Accuracy: 39.42877197265625, Val Loss: 1.560039758682251, Val Accuracy: 45.79999923706055\n",
      "Iteration 500, Epoch 1, Loss: 1.6798452138900757, Accuracy: 40.87138366699219, Val Loss: 1.514772891998291, Val Accuracy: 46.5\n",
      "Iteration 600, Epoch 1, Loss: 1.6503098011016846, Accuracy: 41.919715881347656, Val Loss: 1.4978135824203491, Val Accuracy: 48.0\n",
      "Iteration 700, Epoch 1, Loss: 1.625391960144043, Accuracy: 42.867332458496094, Val Loss: 1.4565984010696411, Val Accuracy: 49.79999923706055\n"
     ]
    }
   ],
   "source": [
    "def model_init_fn():\n",
    "    model = None\n",
    "    ############################################################################\n",
    "    # TODO: Construct a three-layer ConvNet using tf.keras.Sequential.         #\n",
    "    ############################################################################\n",
    "    # *****START OF YOUR CODE (DO NOT DELETE/MODIFY THIS LINE)*****\n",
    "\n",
    "    input_shape = (28,28,1)  # Форма входных данных: изображения размером 28x28 с одним каналом (черно-белые)\n",
    "    channel_1, channel_2, num_classes = 28, 14, 10  # Количество фильтров для первого и второго сверточных слоев, а также количество классов\n",
    "    initializer = tf.initializers.VarianceScaling(scale=2.0)  # Инициализация весов с учетом дисперсии\n",
    "\n",
    "    # Создаем модель, задавая порядок слоев\n",
    "    layers = [\n",
    "        tf.keras.layers.Conv2D(channel_1, [5,5], [1,1], padding='same',\n",
    "                               kernel_initializer=initializer,\n",
    "                               activation='relu'),\n",
    "        tf.keras.layers.Conv2D(channel_2, [3,3], [1,1], padding='same',\n",
    "                               kernel_initializer=initializer,\n",
    "                               activation='relu'),\n",
    "        tf.keras.layers.Flatten(),  # Преобразование входных данных в плоский формат перед полносвязным слоем\n",
    "        tf.keras.layers.Dense(num_classes,\n",
    "                              activation='softmax',\n",
    "                              kernel_initializer=initializer)\n",
    "    ]\n",
    "    model = tf.keras.Sequential(layers)\n",
    "\n",
    "\n",
    "\n",
    "    # *****END OF YOUR CODE (DO NOT DELETE/MODIFY THIS LINE)*****\n",
    "    ############################################################################\n",
    "    #                            END OF YOUR CODE                              #\n",
    "    ############################################################################\n",
    "    return model\n",
    "\n",
    "learning_rate = 5e-4\n",
    "def optimizer_init_fn():\n",
    "    optimizer = None\n",
    "    ############################################################################\n",
    "    # TODO: Complete the implementation of model_fn.                           #\n",
    "    ############################################################################\n",
    "    # *****START OF YOUR CODE (DO NOT DELETE/MODIFY THIS LINE)*****\n",
    "\n",
    "    # Инициализируем оптимизатор стохастического градиентного спуска (SGD) с заданной скоростью обучения (learning_rate).\n",
    "    optimizer = tf.keras.optimizers.SGD(learning_rate, momentum=0.9, nesterov=True)\n",
    "\n",
    "\n",
    "    # *****END OF YOUR CODE (DO NOT DELETE/MODIFY THIS LINE)*****\n",
    "    ############################################################################\n",
    "    #                           END OF YOUR CODE                               #\n",
    "    ############################################################################\n",
    "    return optimizer\n",
    "\n",
    "train_part34(model_init_fn, optimizer_init_fn)"
   ]
  },
  {
   "cell_type": "code",
   "execution_count": 64,
   "metadata": {},
   "outputs": [
    {
     "name": "stdout",
     "output_type": "stream",
     "text": [
      "WARNING:tensorflow:From c:\\Users\\Zhuravel\\AppData\\Local\\Programs\\Python\\Python39\\lib\\site-packages\\keras\\src\\optimizers\\__init__.py:309: The name tf.train.Optimizer is deprecated. Please use tf.compat.v1.train.Optimizer instead.\n",
      "\n"
     ]
    },
    {
     "name": "stdout",
     "output_type": "stream",
     "text": [
      "766/766 [==============================] - 50s 63ms/step - loss: 1.5927 - sparse_categorical_accuracy: 0.4438 - val_loss: 1.3582 - val_sparse_categorical_accuracy: 0.5270\n",
      "313/313 [==============================] - 4s 13ms/step - loss: 1.3700 - sparse_categorical_accuracy: 0.5154\n"
     ]
    },
    {
     "data": {
      "text/plain": [
       "[1.3700116872787476, 0.5153999924659729]"
      ]
     },
     "execution_count": 64,
     "metadata": {},
     "output_type": "execute_result"
    }
   ],
   "source": [
    "model = model_init_fn()\n",
    "model.compile(optimizer='sgd',\n",
    "              loss='sparse_categorical_crossentropy',\n",
    "              metrics=[tf.keras.metrics.sparse_categorical_accuracy])\n",
    "model.fit(X_train, y_train, batch_size=64, epochs=1, validation_data=(X_val, y_val))\n",
    "model.evaluate(X_test, y_test)"
   ]
  },
  {
   "cell_type": "markdown",
   "metadata": {},
   "source": [
    "# Использование Keras Functional API\n",
    "\n",
    "Для реализации более сложных архитектур сети с несколькими входами/выходами, повторным использованием слоев, \"остаточными\" связями (residual connections) необходимо явно указать входные и выходные тензоры. \n",
    "\n",
    "Ниже представлен пример для полносвязной сети. "
   ]
  },
  {
   "cell_type": "code",
   "execution_count": 65,
   "metadata": {},
   "outputs": [
    {
     "name": "stdout",
     "output_type": "stream",
     "text": [
      "(64, 10)\n"
     ]
    }
   ],
   "source": [
    "def two_layer_fc_functional(input_shape, hidden_size, num_classes):\n",
    "    initializer = tf.initializers.VarianceScaling(scale=2.0)\n",
    "    inputs = tf.keras.Input(shape=input_shape)\n",
    "    flattened_inputs = tf.keras.layers.Flatten()(inputs)\n",
    "    fc1_output = tf.keras.layers.Dense(hidden_size, activation='relu',\n",
    "                                 kernel_initializer=initializer)(flattened_inputs)\n",
    "    scores = tf.keras.layers.Dense(num_classes, activation='softmax',\n",
    "                             kernel_initializer=initializer)(fc1_output)\n",
    "\n",
    "    # Instantiate the model given inputs and outputs.\n",
    "    model = tf.keras.Model(inputs=inputs, outputs=scores)\n",
    "    return model\n",
    "\n",
    "def test_two_layer_fc_functional():\n",
    "    \"\"\" A small unit test to exercise the TwoLayerFC model above. \"\"\"\n",
    "    input_size, hidden_size, num_classes = 50, 42, 10\n",
    "    input_shape = (50,)\n",
    "\n",
    "    x = tf.zeros((64, input_size))\n",
    "    model = two_layer_fc_functional(input_shape, hidden_size, num_classes)\n",
    "\n",
    "    with tf.device(device):\n",
    "        scores = model(x)\n",
    "        print(scores.shape)\n",
    "\n",
    "test_two_layer_fc_functional()"
   ]
  },
  {
   "cell_type": "code",
   "execution_count": 66,
   "metadata": {},
   "outputs": [
    {
     "name": "stdout",
     "output_type": "stream",
     "text": [
      "Iteration 0, Epoch 1, Loss: 2.7862119674682617, Accuracy: 9.375, Val Loss: 2.91473388671875, Val Accuracy: 14.200000762939453\n",
      "Iteration 100, Epoch 1, Loss: 2.215261936187744, Accuracy: 28.558168411254883, Val Loss: 1.9318674802780151, Val Accuracy: 38.0\n",
      "Iteration 200, Epoch 1, Loss: 2.0586726665496826, Accuracy: 32.06623077392578, Val Loss: 1.8594584465026855, Val Accuracy: 38.20000076293945\n",
      "Iteration 300, Epoch 1, Loss: 1.9893776178359985, Accuracy: 33.996055603027344, Val Loss: 1.8915715217590332, Val Accuracy: 37.099998474121094\n",
      "Iteration 400, Epoch 1, Loss: 1.926142930984497, Accuracy: 35.80891418457031, Val Loss: 1.7498408555984497, Val Accuracy: 42.099998474121094\n",
      "Iteration 500, Epoch 1, Loss: 1.8832279443740845, Accuracy: 36.96357345581055, Val Loss: 1.6680623292922974, Val Accuracy: 42.89999771118164\n",
      "Iteration 600, Epoch 1, Loss: 1.8538936376571655, Accuracy: 37.80937957763672, Val Loss: 1.702332615852356, Val Accuracy: 42.5\n",
      "Iteration 700, Epoch 1, Loss: 1.8272018432617188, Accuracy: 38.50971603393555, Val Loss: 1.6472448110580444, Val Accuracy: 44.5\n"
     ]
    }
   ],
   "source": [
    "input_shape = (32, 32, 3)\n",
    "hidden_size, num_classes = 4000, 10\n",
    "learning_rate = 1e-2\n",
    "\n",
    "def model_init_fn():\n",
    "    return two_layer_fc_functional(input_shape, hidden_size, num_classes)\n",
    "\n",
    "def optimizer_init_fn():\n",
    "    return tf.keras.optimizers.SGD(learning_rate=learning_rate)\n",
    "\n",
    "train_part34(model_init_fn, optimizer_init_fn)"
   ]
  },
  {
   "cell_type": "markdown",
   "metadata": {},
   "source": [
    "Поэкспериментируйте с архитектурой сверточной сети. Для вашего набора данных вам необходимо получить как минимум 70% accuracy на валидационной выборке за 10 эпох обучения. Опишите все эксперименты и сделайте выводы (без выполнения данного пункта работы приниматься не будут). \n",
    "\n",
    "Эспериментируйте с архитектурой, гиперпараметрами, функцией потерь, регуляризацией, методом оптимизации.  \n",
    "\n",
    "https://www.tensorflow.org/versions/r2.0/api_docs/python/tf/keras/layers/BatchNormalization#methods https://www.tensorflow.org/versions/r2.0/api_docs/python/tf/keras/layers/Dropout#methods"
   ]
  },
  {
   "cell_type": "code",
   "execution_count": 83,
   "metadata": {},
   "outputs": [
    {
     "name": "stdout",
     "output_type": "stream",
     "text": [
      "Iteration 0, Epoch 1, Loss: 2.643627882003784, Accuracy: 9.375, Val Loss: 4.097959041595459, Val Accuracy: 14.800000190734863\n",
      "Iteration 700, Epoch 1, Loss: 1.6226614713668823, Accuracy: 45.99010467529297, Val Loss: 1.2286123037338257, Val Accuracy: 56.80000305175781\n",
      "Iteration 1400, Epoch 2, Loss: 1.1541874408721924, Accuracy: 59.40206527709961, Val Loss: 1.1353862285614014, Val Accuracy: 60.5\n",
      "Iteration 2100, Epoch 3, Loss: 1.0259854793548584, Accuracy: 63.886756896972656, Val Loss: 1.0874015092849731, Val Accuracy: 62.400001525878906\n",
      "Iteration 2800, Epoch 4, Loss: 0.9501389265060425, Accuracy: 66.805419921875, Val Loss: 1.037643551826477, Val Accuracy: 64.0\n",
      "Iteration 3500, Epoch 5, Loss: 0.9029805660247803, Accuracy: 68.76429748535156, Val Loss: 1.0659476518630981, Val Accuracy: 64.0\n",
      "Iteration 4200, Epoch 6, Loss: 0.8641563653945923, Accuracy: 70.2451171875, Val Loss: 1.0375555753707886, Val Accuracy: 64.4000015258789\n",
      "Iteration 4900, Epoch 7, Loss: 0.8342071771621704, Accuracy: 70.68647766113281, Val Loss: 1.0329042673110962, Val Accuracy: 67.5999984741211\n",
      "Iteration 5600, Epoch 8, Loss: 0.8039436936378479, Accuracy: 71.68540954589844, Val Loss: 1.0192298889160156, Val Accuracy: 66.20000457763672\n",
      "Iteration 6300, Epoch 9, Loss: 0.7694908380508423, Accuracy: 73.15751647949219, Val Loss: 1.0356134176254272, Val Accuracy: 68.29999542236328\n",
      "Iteration 7000, Epoch 10, Loss: 0.756817102432251, Accuracy: 75.53971862792969, Val Loss: 1.0372695922851562, Val Accuracy: 71.30000305175781\n"
     ]
    }
   ],
   "source": [
    "class CustomConvNet(tf.keras.Model):\n",
    "    def __init__(self):\n",
    "        super(CustomConvNet, self).__init__()\n",
    "\n",
    "        channel_1, channel_2, num_classes = 28, 14, 10\n",
    "        dp_rate = 0.2\n",
    "        initializer = tf.initializers.VarianceScaling(scale=2.0)\n",
    "        self.conv1 = tf.keras.layers.Conv2D(channel_1, [7,7], [1,1], padding='same',\n",
    "                                  kernel_initializer=initializer)\n",
    "        self.pool1 = tf.keras.layers.MaxPooling2D(pool_size=(2, 2))\n",
    "        self.relu1 = tf.keras.layers.ReLU()\n",
    "        self.dp1 = tf.keras.layers.Dropout(rate=dp_rate)\n",
    "\n",
    "        self.conv2 = tf.keras.layers.Conv2D(channel_2, [5,5], [1,1], padding='same',\n",
    "                                  kernel_initializer=initializer)\n",
    "        self.pool2 = tf.keras.layers.MaxPooling2D(pool_size=(2, 2))\n",
    "        self.relu2 = tf.keras.layers.ReLU()\n",
    "        self.dp2 = tf.keras.layers.Dropout(rate=dp_rate)\n",
    "\n",
    "        self.conv3 = tf.keras.layers.Conv2D(channel_2, [3,3], [1,1], padding='same',\n",
    "                                  kernel_initializer=initializer)\n",
    "        self.pool3 = tf.keras.layers.MaxPooling2D(pool_size=(2, 2))\n",
    "        self.relu3 = tf.keras.layers.ReLU()\n",
    "        self.dp3 = tf.keras.layers.Dropout(rate=dp_rate)\n",
    "\n",
    "        self.fl = tf.keras.layers.Flatten()\n",
    "        self.fc1 = tf.keras.layers.Dense(128,\n",
    "                                  activation='relu',\n",
    "                                  kernel_initializer=initializer)\n",
    "        self.dp_fc1 = tf.keras.layers.Dropout(rate=dp_rate)\n",
    "        self.fc2 = tf.keras.layers.Dense(num_classes,\n",
    "                                  activation='softmax',\n",
    "                                  kernel_initializer=initializer)\n",
    "\n",
    "    def call(self, input_tensor, training=False):\n",
    "        x = input_tensor\n",
    "\n",
    "        x = self.conv1(x)\n",
    "        x = self.pool1(x)\n",
    "        x = self.relu1(x)\n",
    "        x = self.dp1(x)\n",
    "\n",
    "        x = self.conv2(x)\n",
    "        x = self.pool2(x)\n",
    "        x = self.relu2(x)\n",
    "        x = self.dp2(x)\n",
    "\n",
    "        x = self.conv3(x)\n",
    "        x = self.pool3(x)\n",
    "        x = self.relu3(x)\n",
    "        x = self.dp3(x)\n",
    "\n",
    "        x = self.fl(x)\n",
    "        x = self.fc1(x)\n",
    "        x = self.dp_fc1(x)\n",
    "        x = self.fc2(x)\n",
    "\n",
    "        return x\n",
    "    \n",
    "print_every = 700\n",
    "num_epochs = 10\n",
    "\n",
    "model = CustomConvNet()\n",
    "\n",
    "def model_init_fn():\n",
    "    return CustomConvNet()\n",
    "\n",
    "def optimizer_init_fn():\n",
    "    learning_rate = 1e-3\n",
    "    return tf.keras.optimizers.Adam(learning_rate) \n",
    "\n",
    "train_part34(model_init_fn, optimizer_init_fn, num_epochs=num_epochs, is_training=True)"
   ]
  },
  {
   "cell_type": "markdown",
   "metadata": {},
   "source": [
    "Опишите все эксперименты, результаты. Сделайте выводы."
   ]
  },
  {
   "cell_type": "markdown",
   "metadata": {},
   "source": [
    "В данной работе была реализована сверточная нейронная сеть с двумя сверточными слоями и полносвязным слоем. Архитектура нейронной сети включает в себя следующие слои:\n",
    "\n",
    "- Каждый сверточный слой использует активацию ReLU. После каждого сверточного слоя применяется пакетная нормализация и слой Dropout с коэффициентом отсечения 0.2.\n",
    "\n",
    "- После первого сверточного слоя идет второй сверточный слой с аналогичными параметрами.\n",
    "\n",
    "- Полносвязный слой: После сверточных слоев данные проходят через слой Flatten для преобразования в одномерный вектор, затем данные передаются в полносвязный слой с функцией активации softmax для классификации на выходе.\n",
    "\n",
    "- Включили между Dense-слоёв Dropout\n",
    "\n",
    "- Добавили relu с постепенно уменьшающимся размером ядра, например 7x7 -> 5x5 -> 3x3\n"
   ]
  },
  {
   "cell_type": "code",
   "execution_count": null,
   "metadata": {},
   "outputs": [],
   "source": []
  }
 ],
 "metadata": {
  "kernelspec": {
   "display_name": "Python 3",
   "language": "python",
   "name": "python3"
  },
  "language_info": {
   "codemirror_mode": {
    "name": "ipython",
    "version": 3
   },
   "file_extension": ".py",
   "mimetype": "text/x-python",
   "name": "python",
   "nbconvert_exporter": "python",
   "pygments_lexer": "ipython3",
   "version": "3.9.7"
  }
 },
 "nbformat": 4,
 "nbformat_minor": 2
}
